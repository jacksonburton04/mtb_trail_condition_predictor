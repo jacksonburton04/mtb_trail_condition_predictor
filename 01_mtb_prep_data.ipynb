{
 "cells": [
  {
   "cell_type": "markdown",
   "id": "2d74c7ad",
   "metadata": {},
   "source": [
    "# Import Packages"
   ]
  },
  {
   "cell_type": "code",
   "execution_count": 64,
   "id": "589a05dd",
   "metadata": {},
   "outputs": [],
   "source": [
    "import pickle\n",
    "import os\n",
    "from datetime import datetime, timedelta\n",
    "import requests\n",
    "import pandas as pd\n",
    "import numpy as np\n",
    "from sklearn.model_selection import train_test_split, cross_val_score, ParameterGrid, RandomizedSearchCV\n",
    "from sklearn.ensemble import RandomForestClassifier, GradientBoostingClassifier\n",
    "from sklearn.metrics import classification_report, confusion_matrix, roc_auc_score\n",
    "import seaborn as sns\n",
    "import matplotlib.pyplot as plt\n",
    "import warnings\n",
    "from scipy.stats import ttest_ind\n",
    "from xgboost import XGBClassifier\n",
    "import eli5\n",
    "import shap\n",
    "import matplotlib as mpl\n",
    "import matplotlib.dates as mdates\n",
    "from sklearn.utils import resample\n",
    "from sklearn.pipeline import Pipeline\n",
    "from sklearn.compose import ColumnTransformer\n",
    "from sklearn.preprocessing import StandardScaler, OneHotEncoder\n",
    "from sklearn.linear_model import LogisticRegression\n",
    "from sklearn.decomposition import PCA\n",
    "\n",
    "warnings.filterwarnings('ignore')"
   ]
  },
  {
   "cell_type": "markdown",
   "id": "803a4b55",
   "metadata": {},
   "source": [
    "# TEMPORARY MANUAL INPUT STEP"
   ]
  },
  {
   "cell_type": "code",
   "execution_count": 65,
   "id": "fea4d126",
   "metadata": {},
   "outputs": [
    {
     "data": {
      "text/html": [
       "<div>\n",
       "<style scoped>\n",
       "    .dataframe tbody tr th:only-of-type {\n",
       "        vertical-align: middle;\n",
       "    }\n",
       "\n",
       "    .dataframe tbody tr th {\n",
       "        vertical-align: top;\n",
       "    }\n",
       "\n",
       "    .dataframe thead th {\n",
       "        text-align: right;\n",
       "    }\n",
       "</style>\n",
       "<table border=\"1\" class=\"dataframe\">\n",
       "  <thead>\n",
       "    <tr style=\"text-align: right;\">\n",
       "      <th></th>\n",
       "      <th>DATE</th>\n",
       "      <th>MAX TEMPERATURE</th>\n",
       "      <th>AVG WIND</th>\n",
       "      <th>TOTAL PRECIPITATION</th>\n",
       "    </tr>\n",
       "  </thead>\n",
       "  <tbody>\n",
       "    <tr>\n",
       "      <th>0</th>\n",
       "      <td>2023-07-24</td>\n",
       "      <td>83</td>\n",
       "      <td>4</td>\n",
       "      <td>0.55</td>\n",
       "    </tr>\n",
       "  </tbody>\n",
       "</table>\n",
       "</div>"
      ],
      "text/plain": [
       "         DATE  MAX TEMPERATURE  AVG WIND  TOTAL PRECIPITATION\n",
       "0  2023-07-24               83         4                 0.55"
      ]
     },
     "execution_count": 65,
     "metadata": {},
     "output_type": "execute_result"
    }
   ],
   "source": [
    "data = {\n",
    "    'DATE': ['2023-07-24'],\n",
    "    'MAX TEMPERATURE': ['83'],\n",
    "    'AVG WIND': [4],\n",
    "    'TOTAL PRECIPITATION': [0.55]\n",
    "}\n",
    "\n",
    "# Create the DataFrame\n",
    "yesterday_weather= pd.DataFrame(data)\n",
    "yesterday_weather['MAX TEMPERATURE'] = pd.to_numeric(yesterday_weather['MAX TEMPERATURE'])\n",
    "yesterday_weather"
   ]
  },
  {
   "cell_type": "markdown",
   "id": "c271b3d7",
   "metadata": {},
   "source": [
    "# Read in Cora Data, Process"
   ]
  },
  {
   "cell_type": "code",
   "execution_count": 66,
   "id": "8320b6ee",
   "metadata": {},
   "outputs": [],
   "source": [
    "noaa_id = 'NOAA_3392043'\n",
    "lookback_days_list = [2, 3, 7]\n"
   ]
  },
  {
   "cell_type": "code",
   "execution_count": 67,
   "id": "dce38ab4",
   "metadata": {},
   "outputs": [
    {
     "data": {
      "text/html": [
       "<div>\n",
       "<style scoped>\n",
       "    .dataframe tbody tr th:only-of-type {\n",
       "        vertical-align: middle;\n",
       "    }\n",
       "\n",
       "    .dataframe tbody tr th {\n",
       "        vertical-align: top;\n",
       "    }\n",
       "\n",
       "    .dataframe thead th {\n",
       "        text-align: right;\n",
       "    }\n",
       "</style>\n",
       "<table border=\"1\" class=\"dataframe\">\n",
       "  <thead>\n",
       "    <tr style=\"text-align: right;\">\n",
       "      <th></th>\n",
       "      <th>trail</th>\n",
       "      <th>date</th>\n",
       "      <th>status</th>\n",
       "      <th>date_clean</th>\n",
       "    </tr>\n",
       "  </thead>\n",
       "  <tbody>\n",
       "    <tr>\n",
       "      <th>628</th>\n",
       "      <td>East Fork State Park</td>\n",
       "      <td>2023-03-22 9:30:05</td>\n",
       "      <td>closed</td>\n",
       "      <td>2023-03-22</td>\n",
       "    </tr>\n",
       "  </tbody>\n",
       "</table>\n",
       "</div>"
      ],
      "text/plain": [
       "                    trail                date  status date_clean\n",
       "628  East Fork State Park  2023-03-22 9:30:05  closed 2023-03-22"
      ]
     },
     "execution_count": 67,
     "metadata": {},
     "output_type": "execute_result"
    }
   ],
   "source": [
    "df = pd.read_csv('cora-history-raw.csv')\n",
    "df['date_clean'] = df['date'].str[:10]\n",
    "df[\"date_clean\"] = pd.to_datetime(df[\"date_clean\"])\n",
    "data = df.copy().sort_values(by=\"date\", ascending=False)\n",
    "data.head(1)"
   ]
  },
  {
   "cell_type": "code",
   "execution_count": 68,
   "id": "e5498180",
   "metadata": {},
   "outputs": [],
   "source": [
    "# Take the latest update in the day to classify the whole day\n",
    "# Each day trails will often have multiple updates, open the day as open but then it rains, so it closes\n",
    "# something to keep in mind when building the methodology\n",
    "data_grouped = data.groupby(\"date_clean\", as_index=False).first()\n",
    "data_grouped = data_grouped.sort_values(by=\"date_clean\", ascending=True)"
   ]
  },
  {
   "cell_type": "code",
   "execution_count": 69,
   "id": "2a81e5b3",
   "metadata": {},
   "outputs": [
    {
     "data": {
      "text/html": [
       "<div>\n",
       "<style scoped>\n",
       "    .dataframe tbody tr th:only-of-type {\n",
       "        vertical-align: middle;\n",
       "    }\n",
       "\n",
       "    .dataframe tbody tr th {\n",
       "        vertical-align: top;\n",
       "    }\n",
       "\n",
       "    .dataframe thead th {\n",
       "        text-align: right;\n",
       "    }\n",
       "</style>\n",
       "<table border=\"1\" class=\"dataframe\">\n",
       "  <thead>\n",
       "    <tr style=\"text-align: right;\">\n",
       "      <th></th>\n",
       "      <th>date_clean</th>\n",
       "    </tr>\n",
       "  </thead>\n",
       "  <tbody>\n",
       "    <tr>\n",
       "      <th>0</th>\n",
       "      <td>2019-11-27</td>\n",
       "    </tr>\n",
       "  </tbody>\n",
       "</table>\n",
       "</div>"
      ],
      "text/plain": [
       "  date_clean\n",
       "0 2019-11-27"
      ]
     },
     "execution_count": 69,
     "metadata": {},
     "output_type": "execute_result"
    }
   ],
   "source": [
    "# Create a new dataframe with all possible dates\n",
    "all_dates = pd.date_range(start=data['date_clean'].min(), end=data['date_clean'].max(), freq='D')\n",
    "all_dates_df = pd.DataFrame({'date_clean': all_dates})\n",
    "all_dates_df.head(1)"
   ]
  },
  {
   "cell_type": "code",
   "execution_count": 70,
   "id": "9508b6cd",
   "metadata": {},
   "outputs": [
    {
     "data": {
      "text/html": [
       "<div>\n",
       "<style scoped>\n",
       "    .dataframe tbody tr th:only-of-type {\n",
       "        vertical-align: middle;\n",
       "    }\n",
       "\n",
       "    .dataframe tbody tr th {\n",
       "        vertical-align: top;\n",
       "    }\n",
       "\n",
       "    .dataframe thead th {\n",
       "        text-align: right;\n",
       "    }\n",
       "</style>\n",
       "<table border=\"1\" class=\"dataframe\">\n",
       "  <thead>\n",
       "    <tr style=\"text-align: right;\">\n",
       "      <th></th>\n",
       "      <th>date_clean</th>\n",
       "      <th>trail</th>\n",
       "      <th>status</th>\n",
       "    </tr>\n",
       "  </thead>\n",
       "  <tbody>\n",
       "    <tr>\n",
       "      <th>4</th>\n",
       "      <td>2019-11-27</td>\n",
       "      <td>Caesar Creek</td>\n",
       "      <td>closed</td>\n",
       "    </tr>\n",
       "    <tr>\n",
       "      <th>16</th>\n",
       "      <td>2019-11-28</td>\n",
       "      <td>Caesar Creek</td>\n",
       "      <td>closed</td>\n",
       "    </tr>\n",
       "    <tr>\n",
       "      <th>28</th>\n",
       "      <td>2019-11-29</td>\n",
       "      <td>Caesar Creek</td>\n",
       "      <td>caution</td>\n",
       "    </tr>\n",
       "    <tr>\n",
       "      <th>40</th>\n",
       "      <td>2019-11-30</td>\n",
       "      <td>Caesar Creek</td>\n",
       "      <td>caution</td>\n",
       "    </tr>\n",
       "    <tr>\n",
       "      <th>52</th>\n",
       "      <td>2019-12-01</td>\n",
       "      <td>Caesar Creek</td>\n",
       "      <td>caution</td>\n",
       "    </tr>\n",
       "  </tbody>\n",
       "</table>\n",
       "</div>"
      ],
      "text/plain": [
       "   date_clean         trail   status\n",
       "4  2019-11-27  Caesar Creek   closed\n",
       "16 2019-11-28  Caesar Creek   closed\n",
       "28 2019-11-29  Caesar Creek  caution\n",
       "40 2019-11-30  Caesar Creek  caution\n",
       "52 2019-12-01  Caesar Creek  caution"
      ]
     },
     "execution_count": 70,
     "metadata": {},
     "output_type": "execute_result"
    }
   ],
   "source": [
    "# Create a new dataframe with all possible dates and trails\n",
    "all_dates = pd.date_range(start=data['date_clean'].min(), end=data['date_clean'].max(), freq='D')\n",
    "all_trails = data['trail'].unique()\n",
    "all_dates_df = pd.DataFrame({\n",
    "    'date_clean': pd.date_range(start=data['date_clean'].min(), end=data['date_clean'].max(), freq='D').repeat(len(all_trails)),\n",
    "    'trail': list(all_trails) * len(all_dates)\n",
    "})\n",
    "\n",
    "all_dates_df['date_clean'] = pd.to_datetime(all_dates_df['date_clean'])\n",
    "data = data.sort_values('date_clean')\n",
    "\n",
    "# Merge the two dataframes, filling in missing values with the latest status available\n",
    "merged_df = pd.merge_asof(all_dates_df, data, on='date_clean', by='trail', direction='backward')\n",
    "\n",
    "# Forward fill the 'status' column to fill in any missing values\n",
    "merged_df['status'] = merged_df['status'].fillna(method='ffill')\n",
    "\n",
    "# Remove any unnecessary columns and sort by date_clean\n",
    "trail_df = merged_df[['date_clean', 'trail', 'status']].sort_values('date_clean')\n",
    "\n",
    "trail_df.sort_values(['trail','date_clean']).head(5)"
   ]
  },
  {
   "cell_type": "markdown",
   "id": "b57dc958",
   "metadata": {},
   "source": [
    "# Load in NOAA Weather Data, Process"
   ]
  },
  {
   "cell_type": "code",
   "execution_count": 71,
   "id": "dec753ed",
   "metadata": {},
   "outputs": [
    {
     "name": "stdout",
     "output_type": "stream",
     "text": [
      "2020-01-01\n",
      "2023-07-11\n"
     ]
    }
   ],
   "source": [
    "weather_df = pd.read_csv(noaa_id + '.csv')\n",
    "print(weather_df['DATE'].min())\n",
    "print(weather_df['DATE'].max())"
   ]
  },
  {
   "cell_type": "markdown",
   "id": "9d81bc66",
   "metadata": {},
   "source": [
    "## Some Stations have more missing data than others\n",
    "- Not sure why this is, data is just corrupted and/or missing certain days at some stations"
   ]
  },
  {
   "cell_type": "code",
   "execution_count": 72,
   "id": "14e8ae56",
   "metadata": {},
   "outputs": [
    {
     "data": {
      "text/html": [
       "<div>\n",
       "<style scoped>\n",
       "    .dataframe tbody tr th:only-of-type {\n",
       "        vertical-align: middle;\n",
       "    }\n",
       "\n",
       "    .dataframe tbody tr th {\n",
       "        vertical-align: top;\n",
       "    }\n",
       "\n",
       "    .dataframe thead th {\n",
       "        text-align: right;\n",
       "    }\n",
       "</style>\n",
       "<table border=\"1\" class=\"dataframe\">\n",
       "  <thead>\n",
       "    <tr style=\"text-align: right;\">\n",
       "      <th></th>\n",
       "      <th>DATE</th>\n",
       "      <th>STATION</th>\n",
       "      <th>NAME</th>\n",
       "      <th>AWND</th>\n",
       "      <th>PRCP</th>\n",
       "      <th>SNOW</th>\n",
       "      <th>TAVG</th>\n",
       "      <th>TMAX</th>\n",
       "      <th>TMIN</th>\n",
       "    </tr>\n",
       "  </thead>\n",
       "  <tbody>\n",
       "    <tr>\n",
       "      <th>10814</th>\n",
       "      <td>2020-01-01</td>\n",
       "      <td>USW00093814</td>\n",
       "      <td>CINCINNATI NORTHERN KENTUCKY INTERNATIONAL AIR...</td>\n",
       "      <td>9.84</td>\n",
       "      <td>0.0</td>\n",
       "      <td>0.0</td>\n",
       "      <td>38.0</td>\n",
       "      <td>48.0</td>\n",
       "      <td>34.0</td>\n",
       "    </tr>\n",
       "  </tbody>\n",
       "</table>\n",
       "</div>"
      ],
      "text/plain": [
       "             DATE      STATION  \\\n",
       "10814  2020-01-01  USW00093814   \n",
       "\n",
       "                                                    NAME  AWND  PRCP  SNOW  \\\n",
       "10814  CINCINNATI NORTHERN KENTUCKY INTERNATIONAL AIR...  9.84   0.0   0.0   \n",
       "\n",
       "       TAVG  TMAX  TMIN  \n",
       "10814  38.0  48.0  34.0  "
      ]
     },
     "execution_count": 72,
     "metadata": {},
     "output_type": "execute_result"
    }
   ],
   "source": [
    "# Subset the DataFrame to include only the relevant columns\n",
    "cols = ['NAME', 'AWND', 'PRCP', 'SNOW', 'TMAX', 'DATE']\n",
    "df_subset = weather_df[cols]\n",
    "\n",
    "# Get the max date from the DataFrame\n",
    "max_date = df_subset['DATE'].max()\n",
    "\n",
    "# Filter the DataFrame to only include rows with the max date\n",
    "df_max_date = df_subset[df_subset['DATE'] == max_date]\n",
    "\n",
    "# Group the DataFrame by the categorical column and count the missing values\n",
    "grouped = df_max_date.groupby('NAME')\n",
    "missing_counts = grouped.apply(lambda x: x.isnull().sum())\n",
    "\n",
    "# Find the group with the least missing values\n",
    "min_missing_index = missing_counts.sum(axis=1).idxmin()\n",
    "\n",
    "# Retrieve the DataFrame for the group with the least missing values\n",
    "df_min_missing = grouped.get_group(min_missing_index)\n",
    "df_min_missing['NAME'].unique()\n",
    "\n",
    "\n",
    "weather_df_clean = weather_df[weather_df['NAME'] == min_missing_index]\n",
    "\n",
    "weather_df_clean = weather_df_clean[['DATE', 'STATION', 'NAME', 'AWND', 'PRCP','SNOW','TAVG',\n",
    "                                     'TMAX','TMIN']]\n",
    "\n",
    "weather_df_clean.head(1)\n"
   ]
  },
  {
   "cell_type": "code",
   "execution_count": 73,
   "id": "c1ff7355",
   "metadata": {},
   "outputs": [
    {
     "data": {
      "text/html": [
       "<div>\n",
       "<style scoped>\n",
       "    .dataframe tbody tr th:only-of-type {\n",
       "        vertical-align: middle;\n",
       "    }\n",
       "\n",
       "    .dataframe tbody tr th {\n",
       "        vertical-align: top;\n",
       "    }\n",
       "\n",
       "    .dataframe thead th {\n",
       "        text-align: right;\n",
       "    }\n",
       "</style>\n",
       "<table border=\"1\" class=\"dataframe\">\n",
       "  <thead>\n",
       "    <tr style=\"text-align: right;\">\n",
       "      <th></th>\n",
       "      <th>DATE</th>\n",
       "      <th>STATION</th>\n",
       "      <th>NAME</th>\n",
       "      <th>AWND</th>\n",
       "      <th>PRCP</th>\n",
       "      <th>SNOW</th>\n",
       "      <th>TAVG</th>\n",
       "      <th>TMAX</th>\n",
       "      <th>TMIN</th>\n",
       "    </tr>\n",
       "  </thead>\n",
       "  <tbody>\n",
       "    <tr>\n",
       "      <th>10814</th>\n",
       "      <td>2020-01-01</td>\n",
       "      <td>USW00093814</td>\n",
       "      <td>CINCINNATI NORTHERN KENTUCKY INTERNATIONAL AIR...</td>\n",
       "      <td>9.84</td>\n",
       "      <td>0.0</td>\n",
       "      <td>0.0</td>\n",
       "      <td>38.0</td>\n",
       "      <td>48.0</td>\n",
       "      <td>34.0</td>\n",
       "    </tr>\n",
       "  </tbody>\n",
       "</table>\n",
       "</div>"
      ],
      "text/plain": [
       "             DATE      STATION  \\\n",
       "10814  2020-01-01  USW00093814   \n",
       "\n",
       "                                                    NAME  AWND  PRCP  SNOW  \\\n",
       "10814  CINCINNATI NORTHERN KENTUCKY INTERNATIONAL AIR...  9.84   0.0   0.0   \n",
       "\n",
       "       TAVG  TMAX  TMIN  \n",
       "10814  38.0  48.0  34.0  "
      ]
     },
     "execution_count": 73,
     "metadata": {},
     "output_type": "execute_result"
    }
   ],
   "source": [
    "# Subset the DataFrame to include only the relevant columns\n",
    "cols = ['NAME', 'AWND']\n",
    "df_subset = weather_df[cols]\n",
    "\n",
    "# Group the DataFrame by the categorical column and count the missing values\n",
    "grouped = df_subset.groupby('NAME')\n",
    "missing_counts = grouped.apply(lambda x: x.isnull().sum())\n",
    "\n",
    "# Find the group with the least missing values\n",
    "min_missing_index = missing_counts.sum(axis=1).idxmin()\n",
    "\n",
    "# Retrieve the DataFrame for the group with the least missing values\n",
    "df_min_missing = grouped.get_group(min_missing_index)\n",
    "df_min_missing['NAME'].unique()\n",
    "\n",
    "# weather_df['NAME'].unique()\n",
    "\n",
    "weather_df_clean = weather_df[weather_df['NAME'] == 'CINCINNATI NORTHERN KENTUCKY INTERNATIONAL AIRPORT, KY US']\n",
    "\n",
    "weather_df_clean = weather_df_clean[['DATE', 'STATION', 'NAME', 'AWND', 'PRCP','SNOW','TAVG',\n",
    "                                     'TMAX','TMIN']]\n",
    "\n",
    "weather_df_clean.head(1)"
   ]
  },
  {
   "cell_type": "markdown",
   "id": "111903fe",
   "metadata": {},
   "source": [
    "## Check for Missing Values"
   ]
  },
  {
   "cell_type": "code",
   "execution_count": 74,
   "id": "68bf5857",
   "metadata": {},
   "outputs": [
    {
     "name": "stdout",
     "output_type": "stream",
     "text": [
      "Series([], dtype: int64)\n"
     ]
    }
   ],
   "source": [
    "# Count the number of missing values in each column\n",
    "missing_value_counts = weather_df_clean.isnull().sum()\n",
    "\n",
    "# Print the number of missing values in each column\n",
    "print(missing_value_counts[missing_value_counts > 0])"
   ]
  },
  {
   "cell_type": "code",
   "execution_count": 75,
   "id": "8096155e",
   "metadata": {},
   "outputs": [],
   "source": [
    "weather_df_clean = weather_df_clean[weather_df_clean['DATE'] < '2023-03-17']\n",
    "# print(len(weather_df_clean))"
   ]
  },
  {
   "cell_type": "code",
   "execution_count": 76,
   "id": "7db704f3",
   "metadata": {},
   "outputs": [],
   "source": [
    "# weather_df_clean.columns"
   ]
  },
  {
   "cell_type": "code",
   "execution_count": 77,
   "id": "9ec49e8d",
   "metadata": {},
   "outputs": [
    {
     "data": {
      "text/html": [
       "<div>\n",
       "<style scoped>\n",
       "    .dataframe tbody tr th:only-of-type {\n",
       "        vertical-align: middle;\n",
       "    }\n",
       "\n",
       "    .dataframe tbody tr th {\n",
       "        vertical-align: top;\n",
       "    }\n",
       "\n",
       "    .dataframe thead th {\n",
       "        text-align: right;\n",
       "    }\n",
       "</style>\n",
       "<table border=\"1\" class=\"dataframe\">\n",
       "  <thead>\n",
       "    <tr style=\"text-align: right;\">\n",
       "      <th></th>\n",
       "      <th>date_clean</th>\n",
       "      <th>AWND</th>\n",
       "      <th>PRCP</th>\n",
       "      <th>SNOW</th>\n",
       "      <th>TAVG</th>\n",
       "      <th>TMAX</th>\n",
       "      <th>TMIN</th>\n",
       "    </tr>\n",
       "  </thead>\n",
       "  <tbody>\n",
       "    <tr>\n",
       "      <th>10814</th>\n",
       "      <td>2020-01-01</td>\n",
       "      <td>9.84</td>\n",
       "      <td>0.0</td>\n",
       "      <td>0.0</td>\n",
       "      <td>38.0</td>\n",
       "      <td>48.0</td>\n",
       "      <td>34.0</td>\n",
       "    </tr>\n",
       "  </tbody>\n",
       "</table>\n",
       "</div>"
      ],
      "text/plain": [
       "      date_clean  AWND  PRCP  SNOW  TAVG  TMAX  TMIN\n",
       "10814 2020-01-01  9.84   0.0   0.0  38.0  48.0  34.0"
      ]
     },
     "execution_count": 77,
     "metadata": {},
     "output_type": "execute_result"
    }
   ],
   "source": [
    "weather_trim = weather_df_clean[['DATE', 'AWND', 'PRCP',\n",
    "       'SNOW', 'TAVG', 'TMAX', 'TMIN']]\n",
    "weather_trim = weather_trim.rename(columns={'DATE': 'date_clean'})\n",
    "weather_trim[\"date_clean\"] = pd.to_datetime(weather_trim[\"date_clean\"])\n",
    "weather_trim.head(1)"
   ]
  },
  {
   "cell_type": "markdown",
   "id": "b5372f1e",
   "metadata": {},
   "source": [
    "# Merge NOAA Weather and Trail Data"
   ]
  },
  {
   "cell_type": "markdown",
   "id": "37188b91",
   "metadata": {},
   "source": [
    "## Define Open/Caution/Freeze as Target Variable"
   ]
  },
  {
   "cell_type": "code",
   "execution_count": 78,
   "id": "7045651b",
   "metadata": {},
   "outputs": [],
   "source": [
    "model_df = trail_df.merge(weather_trim, on = 'date_clean', how = 'inner')\n",
    "\n",
    "model_df['PRCP'] = model_df['PRCP'] + model_df['SNOW']\n",
    "\n",
    "model_df = model_df.drop(columns=['TMIN', 'TAVG', 'SNOW'])\n",
    "\n",
    "# Create new columns \n",
    "for i in lookback_days_list:\n",
    "    for col in ['PRCP', 'TMAX']:\n",
    "        if col == 'PRCP':\n",
    "            # Calculate the cumulative sum of 'PRCP' for the past X days\n",
    "            model_df[f'{col}_{i}d'] = model_df[col].rolling(window=i).sum().shift(1)\n",
    "        else:\n",
    "            # Calculate the average of 'AWND' and 'TAVG' for the past X days\n",
    "            model_df[f'{col}_{i}d'] = model_df[col].rolling(window=i).mean().shift(1)\n",
    "\n",
    "# Replace missing values with 0\n",
    "model_df.fillna(0, inplace=True)\n",
    "\n",
    "# Create target column with 3 categories: open, caution, closed/freeze\n",
    "conditions = [\n",
    "    model_df['status'].isin(['open', 'caution','freeze']),\n",
    "    model_df['status'].isin(['closed']),\n",
    "]\n",
    "choices = [1, 0]\n",
    "model_df['target'] = np.select(conditions, choices, default='closed/freeze').astype(int)\n",
    "\n",
    "# Drop unnecessary columns\n",
    "model_df.drop(columns=['status'], inplace=True)\n",
    "\n",
    "# Encode target variable as categorical\n",
    "model_df['target'] = pd.Categorical(model_df['target'])"
   ]
  },
  {
   "cell_type": "markdown",
   "id": "f1bed845",
   "metadata": {},
   "source": [
    "# Load Open Weather API Key (Encrypted)"
   ]
  },
  {
   "cell_type": "code",
   "execution_count": 79,
   "id": "8a678a99",
   "metadata": {},
   "outputs": [
    {
     "name": "stdout",
     "output_type": "stream",
     "text": [
      "/Users/jacksonburton/Documents/tech_projects/notebooks\n"
     ]
    }
   ],
   "source": [
    "import os\n",
    "print(os.getcwd())"
   ]
  },
  {
   "cell_type": "code",
   "execution_count": 80,
   "id": "50f18807",
   "metadata": {},
   "outputs": [
    {
     "name": "stdout",
     "output_type": "stream",
     "text": [
      "False\n"
     ]
    }
   ],
   "source": [
    "print(os.path.exists('openweatheronecall.key'))  # returns True if file exists"
   ]
  },
  {
   "cell_type": "code",
   "execution_count": 81,
   "id": "e194b665",
   "metadata": {},
   "outputs": [],
   "source": [
    "from cryptography.fernet import Fernet\n",
    "\n",
    "def load_key():\n",
    "    return open(\"/Users/jacksonburton/Documents/tech_projects/key.key\", \"rb\").read()\n",
    "\n",
    "# Load the key\n",
    "key = load_key()\n",
    "f = Fernet(key)\n",
    "\n",
    "with open(\"/Users/jacksonburton/Documents/tech_projects/encrypted_api_key.key\", \"rb\") as api_key_file:  \n",
    "    encrypted_api_key = api_key_file.read()\n",
    "\n",
    "decrypted_api_key = f.decrypt(encrypted_api_key).decode()\n",
    "api_key = decrypted_api_key"
   ]
  },
  {
   "cell_type": "markdown",
   "id": "6ec26abe",
   "metadata": {},
   "source": [
    "# METHODOLOGY: % Probability X Rain Inches\n",
    "- Since future weather data is uncertain, lets try taking the probability of rain TIMES the inches expected"
   ]
  },
  {
   "cell_type": "code",
   "execution_count": 82,
   "id": "08a82173",
   "metadata": {},
   "outputs": [
    {
     "name": "stdout",
     "output_type": "stream",
     "text": [
      "Already have today's future data. Loading from pickle file.\n"
     ]
    },
    {
     "data": {
      "text/html": [
       "<div>\n",
       "<style scoped>\n",
       "    .dataframe tbody tr th:only-of-type {\n",
       "        vertical-align: middle;\n",
       "    }\n",
       "\n",
       "    .dataframe tbody tr th {\n",
       "        vertical-align: top;\n",
       "    }\n",
       "\n",
       "    .dataframe thead th {\n",
       "        text-align: right;\n",
       "    }\n",
       "</style>\n",
       "<table border=\"1\" class=\"dataframe\">\n",
       "  <thead>\n",
       "    <tr style=\"text-align: right;\">\n",
       "      <th></th>\n",
       "      <th>DATE</th>\n",
       "      <th>MAX TEMPERATURE</th>\n",
       "      <th>AVG WIND</th>\n",
       "      <th>TOTAL PRECIPITATION</th>\n",
       "    </tr>\n",
       "  </thead>\n",
       "  <tbody>\n",
       "    <tr>\n",
       "      <th>0</th>\n",
       "      <td>2023-07-26</td>\n",
       "      <td>92.44</td>\n",
       "      <td>13.29</td>\n",
       "      <td>0.039949</td>\n",
       "    </tr>\n",
       "    <tr>\n",
       "      <th>1</th>\n",
       "      <td>2023-07-27</td>\n",
       "      <td>95.59</td>\n",
       "      <td>13.73</td>\n",
       "      <td>0.187008</td>\n",
       "    </tr>\n",
       "    <tr>\n",
       "      <th>2</th>\n",
       "      <td>2023-07-28</td>\n",
       "      <td>100.45</td>\n",
       "      <td>10.87</td>\n",
       "      <td>0.001299</td>\n",
       "    </tr>\n",
       "    <tr>\n",
       "      <th>3</th>\n",
       "      <td>2023-07-29</td>\n",
       "      <td>98.94</td>\n",
       "      <td>10.67</td>\n",
       "      <td>0.001953</td>\n",
       "    </tr>\n",
       "    <tr>\n",
       "      <th>4</th>\n",
       "      <td>2023-07-30</td>\n",
       "      <td>90.46</td>\n",
       "      <td>11.52</td>\n",
       "      <td>0.037039</td>\n",
       "    </tr>\n",
       "    <tr>\n",
       "      <th>5</th>\n",
       "      <td>2023-07-31</td>\n",
       "      <td>84.92</td>\n",
       "      <td>8.25</td>\n",
       "      <td>0.000000</td>\n",
       "    </tr>\n",
       "    <tr>\n",
       "      <th>6</th>\n",
       "      <td>2023-08-01</td>\n",
       "      <td>87.37</td>\n",
       "      <td>7.31</td>\n",
       "      <td>0.000000</td>\n",
       "    </tr>\n",
       "    <tr>\n",
       "      <th>7</th>\n",
       "      <td>2023-08-02</td>\n",
       "      <td>94.33</td>\n",
       "      <td>16.40</td>\n",
       "      <td>0.019039</td>\n",
       "    </tr>\n",
       "  </tbody>\n",
       "</table>\n",
       "</div>"
      ],
      "text/plain": [
       "         DATE  MAX TEMPERATURE  AVG WIND  TOTAL PRECIPITATION\n",
       "0  2023-07-26            92.44     13.29             0.039949\n",
       "1  2023-07-27            95.59     13.73             0.187008\n",
       "2  2023-07-28           100.45     10.87             0.001299\n",
       "3  2023-07-29            98.94     10.67             0.001953\n",
       "4  2023-07-30            90.46     11.52             0.037039\n",
       "5  2023-07-31            84.92      8.25             0.000000\n",
       "6  2023-08-01            87.37      7.31             0.000000\n",
       "7  2023-08-02            94.33     16.40             0.019039"
      ]
     },
     "execution_count": 82,
     "metadata": {},
     "output_type": "execute_result"
    }
   ],
   "source": [
    "lat = \"39.1015\"  # Replace with latitude of Cincinnati, OH\n",
    "lon = \"-84.5125\"  # Replace with longitude of Cincinnati, OH\n",
    "exclude = \"minutely,hourly,alerts\"\n",
    "days=7\n",
    "location = 'Cincinnati, OH'\n",
    "\n",
    "# Load future weather data\n",
    "pickle_file = 'weather_data.pickle'\n",
    "url = f\"https://api.openweathermap.org/data/3.0/onecall?lat={lat}&lon={lon}&exclude={exclude}&appid={api_key}&units=imperial\"\n",
    "\n",
    "if os.path.exists(pickle_file) and datetime.fromtimestamp(os.path.getmtime(pickle_file)).date() == datetime.now().date():\n",
    "    with open(pickle_file, 'rb') as f:\n",
    "        weather_data = pickle.load(f)\n",
    "    print(\"Already have today's future data. Loading from pickle file.\")\n",
    "else:\n",
    "    response = requests.get(url).json()\n",
    "    print(response)\n",
    "    forecast = response['daily']\n",
    "    data = []\n",
    "    for day in forecast:\n",
    "        date = datetime.fromtimestamp(day['dt']).strftime('%Y-%m-%d')  # Converting Unix timestamp to readable date\n",
    "        max_temp_f = day['temp']['max']  # Fetching maximum temperature in Fahrenheit\n",
    "        avg_wind = day['wind_speed']\n",
    "        total_precip_mm = day['rain'] if 'rain' in day else 0  # Some days may not have 'rain' key if there's no rain\n",
    "        total_precip_in = total_precip_mm / 25.4  # Convert from mm to inches\n",
    "        precip_prob = day['pop']  # Fetching precipitation probability\n",
    "        data.append([date, max_temp_f, avg_wind, total_precip_in, precip_prob])\n",
    "\n",
    "    weather_data = pd.DataFrame(data, columns=['DATE', 'MAX TEMPERATURE', 'AVG WIND', 'TOTAL PRECIPITATION', 'PRECIPITATION PROBABILITY'])\n",
    "    with open(pickle_file, 'wb') as f:\n",
    "        pickle.dump(weather_data, f)\n",
    "    print(\"Did not have today's future data, loading API data and saving to pickle file.\")\n",
    "\n",
    "future_weather = weather_data.copy()\n",
    "future_weather['TOTAL PRECIPITATION RAW'] = future_weather['TOTAL PRECIPITATION'].copy()\n",
    "future_weather['TOTAL PRECIPITATION'] = future_weather['TOTAL PRECIPITATION'] * future_weather['PRECIPITATION PROBABILITY']\n",
    "future_weather = future_weather[['DATE', 'MAX TEMPERATURE', 'AVG WIND', 'TOTAL PRECIPITATION']]\n",
    "future_weather"
   ]
  },
  {
   "cell_type": "code",
   "execution_count": 83,
   "id": "7f7dd8c2",
   "metadata": {},
   "outputs": [
    {
     "data": {
      "text/html": [
       "<div>\n",
       "<style scoped>\n",
       "    .dataframe tbody tr th:only-of-type {\n",
       "        vertical-align: middle;\n",
       "    }\n",
       "\n",
       "    .dataframe tbody tr th {\n",
       "        vertical-align: top;\n",
       "    }\n",
       "\n",
       "    .dataframe thead th {\n",
       "        text-align: right;\n",
       "    }\n",
       "</style>\n",
       "<table border=\"1\" class=\"dataframe\">\n",
       "  <thead>\n",
       "    <tr style=\"text-align: right;\">\n",
       "      <th></th>\n",
       "      <th>DATE</th>\n",
       "      <th>MAX TEMPERATURE</th>\n",
       "      <th>AVG WIND</th>\n",
       "      <th>TOTAL PRECIPITATION</th>\n",
       "      <th>PRECIPITATION PROBABILITY</th>\n",
       "    </tr>\n",
       "  </thead>\n",
       "  <tbody>\n",
       "    <tr>\n",
       "      <th>0</th>\n",
       "      <td>2023-07-26</td>\n",
       "      <td>92.44</td>\n",
       "      <td>13.29</td>\n",
       "      <td>0.054724</td>\n",
       "      <td>0.73</td>\n",
       "    </tr>\n",
       "    <tr>\n",
       "      <th>1</th>\n",
       "      <td>2023-07-27</td>\n",
       "      <td>95.59</td>\n",
       "      <td>13.73</td>\n",
       "      <td>0.187008</td>\n",
       "      <td>1.00</td>\n",
       "    </tr>\n",
       "    <tr>\n",
       "      <th>2</th>\n",
       "      <td>2023-07-28</td>\n",
       "      <td>100.45</td>\n",
       "      <td>10.87</td>\n",
       "      <td>0.004331</td>\n",
       "      <td>0.30</td>\n",
       "    </tr>\n",
       "    <tr>\n",
       "      <th>3</th>\n",
       "      <td>2023-07-29</td>\n",
       "      <td>98.94</td>\n",
       "      <td>10.67</td>\n",
       "      <td>0.006299</td>\n",
       "      <td>0.31</td>\n",
       "    </tr>\n",
       "    <tr>\n",
       "      <th>4</th>\n",
       "      <td>2023-07-30</td>\n",
       "      <td>90.46</td>\n",
       "      <td>11.52</td>\n",
       "      <td>0.037795</td>\n",
       "      <td>0.98</td>\n",
       "    </tr>\n",
       "    <tr>\n",
       "      <th>5</th>\n",
       "      <td>2023-07-31</td>\n",
       "      <td>84.92</td>\n",
       "      <td>8.25</td>\n",
       "      <td>0.000000</td>\n",
       "      <td>0.00</td>\n",
       "    </tr>\n",
       "    <tr>\n",
       "      <th>6</th>\n",
       "      <td>2023-08-01</td>\n",
       "      <td>87.37</td>\n",
       "      <td>7.31</td>\n",
       "      <td>0.000000</td>\n",
       "      <td>0.00</td>\n",
       "    </tr>\n",
       "    <tr>\n",
       "      <th>7</th>\n",
       "      <td>2023-08-02</td>\n",
       "      <td>94.33</td>\n",
       "      <td>16.40</td>\n",
       "      <td>0.030709</td>\n",
       "      <td>0.62</td>\n",
       "    </tr>\n",
       "  </tbody>\n",
       "</table>\n",
       "</div>"
      ],
      "text/plain": [
       "         DATE  MAX TEMPERATURE  AVG WIND  TOTAL PRECIPITATION  \\\n",
       "0  2023-07-26            92.44     13.29             0.054724   \n",
       "1  2023-07-27            95.59     13.73             0.187008   \n",
       "2  2023-07-28           100.45     10.87             0.004331   \n",
       "3  2023-07-29            98.94     10.67             0.006299   \n",
       "4  2023-07-30            90.46     11.52             0.037795   \n",
       "5  2023-07-31            84.92      8.25             0.000000   \n",
       "6  2023-08-01            87.37      7.31             0.000000   \n",
       "7  2023-08-02            94.33     16.40             0.030709   \n",
       "\n",
       "   PRECIPITATION PROBABILITY  \n",
       "0                       0.73  \n",
       "1                       1.00  \n",
       "2                       0.30  \n",
       "3                       0.31  \n",
       "4                       0.98  \n",
       "5                       0.00  \n",
       "6                       0.00  \n",
       "7                       0.62  "
      ]
     },
     "execution_count": 83,
     "metadata": {},
     "output_type": "execute_result"
    }
   ],
   "source": [
    "weather_data"
   ]
  },
  {
   "cell_type": "markdown",
   "id": "3ad3b70b",
   "metadata": {},
   "source": [
    "# Get Historical Weather Data One Week\n",
    "- Outstanding issue: for some reason, I cannot pull yesterdays weather as of 9AM EST\n",
    "- Maybe if I wait until later in the day to try and run this, this issue might resolve? Not sure"
   ]
  },
  {
   "cell_type": "code",
   "execution_count": 84,
   "id": "a619a961",
   "metadata": {},
   "outputs": [
    {
     "name": "stdout",
     "output_type": "stream",
     "text": [
      "Already have today's data. Loading from pickle file.\n"
     ]
    },
    {
     "data": {
      "text/html": [
       "<div>\n",
       "<style scoped>\n",
       "    .dataframe tbody tr th:only-of-type {\n",
       "        vertical-align: middle;\n",
       "    }\n",
       "\n",
       "    .dataframe tbody tr th {\n",
       "        vertical-align: top;\n",
       "    }\n",
       "\n",
       "    .dataframe thead th {\n",
       "        text-align: right;\n",
       "    }\n",
       "</style>\n",
       "<table border=\"1\" class=\"dataframe\">\n",
       "  <thead>\n",
       "    <tr style=\"text-align: right;\">\n",
       "      <th></th>\n",
       "      <th>DATE</th>\n",
       "      <th>MAX TEMPERATURE</th>\n",
       "      <th>AVG WIND</th>\n",
       "      <th>TOTAL PRECIPITATION</th>\n",
       "    </tr>\n",
       "  </thead>\n",
       "  <tbody>\n",
       "    <tr>\n",
       "      <th>1</th>\n",
       "      <td>2023-07-24</td>\n",
       "      <td>86.92</td>\n",
       "      <td>16.11</td>\n",
       "      <td>0.163386</td>\n",
       "    </tr>\n",
       "    <tr>\n",
       "      <th>2</th>\n",
       "      <td>2023-07-23</td>\n",
       "      <td>85.66</td>\n",
       "      <td>12.66</td>\n",
       "      <td>0.000000</td>\n",
       "    </tr>\n",
       "    <tr>\n",
       "      <th>3</th>\n",
       "      <td>2023-07-22</td>\n",
       "      <td>83.19</td>\n",
       "      <td>8.05</td>\n",
       "      <td>0.000000</td>\n",
       "    </tr>\n",
       "    <tr>\n",
       "      <th>4</th>\n",
       "      <td>2023-07-21</td>\n",
       "      <td>80.51</td>\n",
       "      <td>11.50</td>\n",
       "      <td>0.000000</td>\n",
       "    </tr>\n",
       "    <tr>\n",
       "      <th>5</th>\n",
       "      <td>2023-07-20</td>\n",
       "      <td>88.07</td>\n",
       "      <td>16.11</td>\n",
       "      <td>0.000000</td>\n",
       "    </tr>\n",
       "    <tr>\n",
       "      <th>6</th>\n",
       "      <td>2023-07-19</td>\n",
       "      <td>83.12</td>\n",
       "      <td>12.66</td>\n",
       "      <td>0.000000</td>\n",
       "    </tr>\n",
       "  </tbody>\n",
       "</table>\n",
       "</div>"
      ],
      "text/plain": [
       "         DATE  MAX TEMPERATURE  AVG WIND  TOTAL PRECIPITATION\n",
       "1  2023-07-24            86.92     16.11             0.163386\n",
       "2  2023-07-23            85.66     12.66             0.000000\n",
       "3  2023-07-22            83.19      8.05             0.000000\n",
       "4  2023-07-21            80.51     11.50             0.000000\n",
       "5  2023-07-20            88.07     16.11             0.000000\n",
       "6  2023-07-19            83.12     12.66             0.000000"
      ]
     },
     "execution_count": 84,
     "metadata": {},
     "output_type": "execute_result"
    }
   ],
   "source": [
    "def get_weather_data(lat, lon, date, api_key):\n",
    "    base_url = \"https://api.openweathermap.org/data/3.0/onecall/day_summary\"\n",
    "    params = {\n",
    "        'lat': lat,\n",
    "        'lon': lon,\n",
    "        'date': date,\n",
    "        'appid': api_key,\n",
    "        'units': 'imperial'  # For Fahrenheit\n",
    "    }\n",
    "    response = requests.get(base_url, params=params)\n",
    "    return response.json()\n",
    "\n",
    "# Cincinnati, Ohio coordinates\n",
    "lat = 39.1031\n",
    "lon = -84.5120\n",
    "\n",
    "pickle_file = 'historical_one_week.pickle'\n",
    "if os.path.exists(pickle_file) and datetime.fromtimestamp(os.path.getmtime(pickle_file)).date() == datetime.now().date():\n",
    "    with open(pickle_file, 'rb') as f:\n",
    "        historical_one_week = pickle.load(f)\n",
    "    print(\"Already have today's data. Loading from pickle file.\")\n",
    "else:\n",
    "    # Initialize dataframe\n",
    "    historical_one_week = pd.DataFrame(columns=['DATE', 'MAX TEMPERATURE', 'AVG WIND', 'TOTAL PRECIPITATION'])\n",
    "\n",
    "    # Loop through last 7 days\n",
    "    for i in range(1, 8):  # Start from 1, not 0\n",
    "        date = (datetime.now() - timedelta(days=i)).strftime('%Y-%m-%d')\n",
    "        data = get_weather_data(lat, lon, date, api_key)\n",
    "        \n",
    "        # Print out the keys in the data dictionary\n",
    "        # print(f\"Keys in data dictionary for {date}: {data.keys()}\")\n",
    "        \n",
    "        try:\n",
    "            # Fetching maximum temperature\n",
    "            temp_max = data['temperature']['max']\n",
    "            wind_speed = data['wind']['max']['speed']\n",
    "            # Convert precipitation from mm to inches # Confirmed on 7/21 that NOAA is inches and this API is mm\n",
    "            precipitation = data['precipitation']['total'] * 0.0393701\n",
    "            historical_one_week.loc[i-1] = [date, temp_max, wind_speed, precipitation]  # i-1 to make index start from 0\n",
    "        except KeyError:\n",
    "            print(f\"Error for {date}: {data.get('message', 'Unknown error')}\")\n",
    "\n",
    "    with open(pickle_file, 'wb') as f:\n",
    "        pickle.dump(historical_one_week, f)\n",
    "    print(\"Did not have today's data, pulling API data and saving to pickle file.\")\n",
    "\n",
    "historical_one_week"
   ]
  },
  {
   "cell_type": "markdown",
   "id": "3d80b50a",
   "metadata": {},
   "source": [
    "# Code I sent to Open Weather Support Email"
   ]
  },
  {
   "cell_type": "code",
   "execution_count": 85,
   "id": "21c211e7",
   "metadata": {},
   "outputs": [
    {
     "data": {
      "text/plain": [
       "{'lat': 39.1031,\n",
       " 'lon': -84.512,\n",
       " 'tz': '-04:00',\n",
       " 'date': '2023-07-20',\n",
       " 'units': 'imperial',\n",
       " 'cloud_cover': {'afternoon': 40.0},\n",
       " 'humidity': {'afternoon': 73.0},\n",
       " 'precipitation': {'total': 0.0},\n",
       " 'temperature': {'min': 70.56,\n",
       "  'max': 88.07,\n",
       "  'afternoon': 83.07,\n",
       "  'night': 73.04,\n",
       "  'evening': 86.59,\n",
       "  'morning': 70.68},\n",
       " 'pressure': {'afternoon': 1006.0},\n",
       " 'wind': {'max': {'speed': 16.11, 'direction': 190.0}}}"
      ]
     },
     "execution_count": 85,
     "metadata": {},
     "output_type": "execute_result"
    }
   ],
   "source": [
    "def get_weather_data(lat, lon, date, api_key):\n",
    "    base_url = \"https://api.openweathermap.org/data/3.0/onecall/day_summary\"\n",
    "    params = {\n",
    "        'lat': lat,\n",
    "        'lon': lon,\n",
    "        'date': date,\n",
    "        'appid': api_key,\n",
    "        'units': 'imperial'  # For Fahrenheit\n",
    "    }\n",
    "    response = requests.get(base_url, params=params)\n",
    "    return response.json()\n",
    "    \n",
    "response = get_weather_data(lat, lon, '2023-07-20', api_key)\n",
    "response\n"
   ]
  },
  {
   "cell_type": "markdown",
   "id": "8a43b00a",
   "metadata": {},
   "source": [
    "# Merge 7 Day History with NOAA"
   ]
  },
  {
   "cell_type": "code",
   "execution_count": 86,
   "id": "a9dc94f6",
   "metadata": {},
   "outputs": [
    {
     "data": {
      "text/plain": [
       "Index(['date_clean', 'trail', 'AWND', 'PRCP', 'TMAX', 'PRCP_2d', 'TMAX_2d',\n",
       "       'PRCP_3d', 'TMAX_3d', 'PRCP_7d', 'TMAX_7d', 'target'],\n",
       "      dtype='object')"
      ]
     },
     "execution_count": 86,
     "metadata": {},
     "output_type": "execute_result"
    }
   ],
   "source": [
    "model_df.columns"
   ]
  },
  {
   "cell_type": "markdown",
   "id": "8f090d29",
   "metadata": {},
   "source": [
    "## Notes on why your current data setup works fine, for (1) Training and (2) Building Model Features\n",
    "\n",
    "- The Model \n",
    "- So right now, you're filtering on that March 17th date to train your model\n",
    "- this is fine, but that means you need to pull WEATHER_TRIM down here to do your work, instead of model_df\n",
    "- so pull WEATHER TRIM down here, then do you duplication across TRAIL names and column standardization, and then blow up your data so the model can score its predictions\n",
    "- THIS will allow you to score predictions\n",
    "\n",
    "- Features\n",
    "- You have 7 day history, and none of your features go further back than 7 days"
   ]
  },
  {
   "cell_type": "markdown",
   "id": "2ae468af",
   "metadata": {},
   "source": [
    "## Long Tail Historicals"
   ]
  },
  {
   "cell_type": "code",
   "execution_count": 87,
   "id": "9dadb1a0",
   "metadata": {},
   "outputs": [
    {
     "data": {
      "text/html": [
       "<div>\n",
       "<style scoped>\n",
       "    .dataframe tbody tr th:only-of-type {\n",
       "        vertical-align: middle;\n",
       "    }\n",
       "\n",
       "    .dataframe tbody tr th {\n",
       "        vertical-align: top;\n",
       "    }\n",
       "\n",
       "    .dataframe thead th {\n",
       "        text-align: right;\n",
       "    }\n",
       "</style>\n",
       "<table border=\"1\" class=\"dataframe\">\n",
       "  <thead>\n",
       "    <tr style=\"text-align: right;\">\n",
       "      <th></th>\n",
       "      <th>DATE</th>\n",
       "      <th>MAX TEMPERATURE</th>\n",
       "      <th>AVG WIND</th>\n",
       "      <th>TOTAL PRECIPITATION</th>\n",
       "    </tr>\n",
       "  </thead>\n",
       "  <tbody>\n",
       "    <tr>\n",
       "      <th>10814</th>\n",
       "      <td>2020-01-01</td>\n",
       "      <td>48.0</td>\n",
       "      <td>9.84</td>\n",
       "      <td>0.0</td>\n",
       "    </tr>\n",
       "  </tbody>\n",
       "</table>\n",
       "</div>"
      ],
      "text/plain": [
       "            DATE  MAX TEMPERATURE  AVG WIND  TOTAL PRECIPITATION\n",
       "10814 2020-01-01             48.0      9.84                  0.0"
      ]
     },
     "execution_count": 87,
     "metadata": {},
     "output_type": "execute_result"
    }
   ],
   "source": [
    "weather_df_deploy = weather_trim[['date_clean', 'TMAX', 'AWND', 'PRCP']]\n",
    "\n",
    "# create a dictionary that maps the old column names to the new column names\n",
    "column_names = {'date_clean': 'DATE', 'TMAX': 'MAX TEMPERATURE', 'AWND': 'AVG WIND','PRCP' : 'TOTAL PRECIPITATION'}\n",
    "\n",
    "# rename the columns using the rename() method with the column_names dictionary\n",
    "weather_df_deploy = weather_df_deploy.rename(columns=column_names)\n",
    "weather_df_deploy.head(1)"
   ]
  },
  {
   "cell_type": "code",
   "execution_count": 88,
   "id": "e4d93d53",
   "metadata": {},
   "outputs": [
    {
     "data": {
      "text/html": [
       "<div>\n",
       "<style scoped>\n",
       "    .dataframe tbody tr th:only-of-type {\n",
       "        vertical-align: middle;\n",
       "    }\n",
       "\n",
       "    .dataframe tbody tr th {\n",
       "        vertical-align: top;\n",
       "    }\n",
       "\n",
       "    .dataframe thead th {\n",
       "        text-align: right;\n",
       "    }\n",
       "</style>\n",
       "<table border=\"1\" class=\"dataframe\">\n",
       "  <thead>\n",
       "    <tr style=\"text-align: right;\">\n",
       "      <th></th>\n",
       "      <th>MAX TEMPERATURE</th>\n",
       "      <th>AVG WIND</th>\n",
       "      <th>TOTAL PRECIPITATION</th>\n",
       "    </tr>\n",
       "  </thead>\n",
       "  <tbody>\n",
       "    <tr>\n",
       "      <th>count</th>\n",
       "      <td>1171.000000</td>\n",
       "      <td>1171.000000</td>\n",
       "      <td>1171.000000</td>\n",
       "    </tr>\n",
       "    <tr>\n",
       "      <th>mean</th>\n",
       "      <td>64.263877</td>\n",
       "      <td>8.485081</td>\n",
       "      <td>0.130213</td>\n",
       "    </tr>\n",
       "    <tr>\n",
       "      <th>std</th>\n",
       "      <td>18.464599</td>\n",
       "      <td>3.284035</td>\n",
       "      <td>0.326804</td>\n",
       "    </tr>\n",
       "    <tr>\n",
       "      <th>min</th>\n",
       "      <td>10.000000</td>\n",
       "      <td>1.340000</td>\n",
       "      <td>0.000000</td>\n",
       "    </tr>\n",
       "    <tr>\n",
       "      <th>25%</th>\n",
       "      <td>50.000000</td>\n",
       "      <td>6.040000</td>\n",
       "      <td>0.000000</td>\n",
       "    </tr>\n",
       "    <tr>\n",
       "      <th>50%</th>\n",
       "      <td>65.000000</td>\n",
       "      <td>8.050000</td>\n",
       "      <td>0.000000</td>\n",
       "    </tr>\n",
       "    <tr>\n",
       "      <th>75%</th>\n",
       "      <td>81.000000</td>\n",
       "      <td>10.510000</td>\n",
       "      <td>0.080000</td>\n",
       "    </tr>\n",
       "    <tr>\n",
       "      <th>max</th>\n",
       "      <td>95.000000</td>\n",
       "      <td>21.030000</td>\n",
       "      <td>2.730000</td>\n",
       "    </tr>\n",
       "  </tbody>\n",
       "</table>\n",
       "</div>"
      ],
      "text/plain": [
       "       MAX TEMPERATURE     AVG WIND  TOTAL PRECIPITATION\n",
       "count      1171.000000  1171.000000          1171.000000\n",
       "mean         64.263877     8.485081             0.130213\n",
       "std          18.464599     3.284035             0.326804\n",
       "min          10.000000     1.340000             0.000000\n",
       "25%          50.000000     6.040000             0.000000\n",
       "50%          65.000000     8.050000             0.000000\n",
       "75%          81.000000    10.510000             0.080000\n",
       "max          95.000000    21.030000             2.730000"
      ]
     },
     "execution_count": 88,
     "metadata": {},
     "output_type": "execute_result"
    }
   ],
   "source": [
    "weather_df_deploy.describe()"
   ]
  },
  {
   "cell_type": "code",
   "execution_count": 89,
   "id": "ef57643f",
   "metadata": {
    "scrolled": true
   },
   "outputs": [
    {
     "data": {
      "text/html": [
       "<div>\n",
       "<style scoped>\n",
       "    .dataframe tbody tr th:only-of-type {\n",
       "        vertical-align: middle;\n",
       "    }\n",
       "\n",
       "    .dataframe tbody tr th {\n",
       "        vertical-align: top;\n",
       "    }\n",
       "\n",
       "    .dataframe thead th {\n",
       "        text-align: right;\n",
       "    }\n",
       "</style>\n",
       "<table border=\"1\" class=\"dataframe\">\n",
       "  <thead>\n",
       "    <tr style=\"text-align: right;\">\n",
       "      <th></th>\n",
       "      <th>DATE</th>\n",
       "      <th>MAX TEMPERATURE</th>\n",
       "      <th>AVG WIND</th>\n",
       "      <th>TOTAL PRECIPITATION</th>\n",
       "    </tr>\n",
       "  </thead>\n",
       "  <tbody>\n",
       "    <tr>\n",
       "      <th>1</th>\n",
       "      <td>2023-07-24</td>\n",
       "      <td>86.92</td>\n",
       "      <td>16.11</td>\n",
       "      <td>0.163386</td>\n",
       "    </tr>\n",
       "    <tr>\n",
       "      <th>2</th>\n",
       "      <td>2023-07-23</td>\n",
       "      <td>85.66</td>\n",
       "      <td>12.66</td>\n",
       "      <td>0.000000</td>\n",
       "    </tr>\n",
       "    <tr>\n",
       "      <th>3</th>\n",
       "      <td>2023-07-22</td>\n",
       "      <td>83.19</td>\n",
       "      <td>8.05</td>\n",
       "      <td>0.000000</td>\n",
       "    </tr>\n",
       "  </tbody>\n",
       "</table>\n",
       "</div>"
      ],
      "text/plain": [
       "         DATE  MAX TEMPERATURE  AVG WIND  TOTAL PRECIPITATION\n",
       "1  2023-07-24            86.92     16.11             0.163386\n",
       "2  2023-07-23            85.66     12.66             0.000000\n",
       "3  2023-07-22            83.19      8.05             0.000000"
      ]
     },
     "execution_count": 89,
     "metadata": {},
     "output_type": "execute_result"
    }
   ],
   "source": [
    "weather_append = pd.concat([historical_one_week, yesterday_weather, future_weather, weather_df_deploy])\n",
    "weather_append = weather_append.drop_duplicates(subset=['DATE'], keep='first')\n",
    "weather_append['DATE'] = pd.to_datetime(weather_append['DATE'])\n",
    "weather_append['DATE'] = weather_append['DATE'].dt.date\n",
    "weather_append.head(3)"
   ]
  },
  {
   "cell_type": "code",
   "execution_count": 90,
   "id": "0ec5ee63",
   "metadata": {},
   "outputs": [
    {
     "data": {
      "text/html": [
       "<div>\n",
       "<style scoped>\n",
       "    .dataframe tbody tr th:only-of-type {\n",
       "        vertical-align: middle;\n",
       "    }\n",
       "\n",
       "    .dataframe tbody tr th {\n",
       "        vertical-align: top;\n",
       "    }\n",
       "\n",
       "    .dataframe thead th {\n",
       "        text-align: right;\n",
       "    }\n",
       "</style>\n",
       "<table border=\"1\" class=\"dataframe\">\n",
       "  <thead>\n",
       "    <tr style=\"text-align: right;\">\n",
       "      <th></th>\n",
       "      <th>DATE</th>\n",
       "      <th>MAX TEMPERATURE</th>\n",
       "      <th>AVG WIND</th>\n",
       "      <th>TOTAL PRECIPITATION</th>\n",
       "    </tr>\n",
       "  </thead>\n",
       "  <tbody>\n",
       "    <tr>\n",
       "      <th>7</th>\n",
       "      <td>2023-08-02</td>\n",
       "      <td>94.33</td>\n",
       "      <td>16.40</td>\n",
       "      <td>0.019039</td>\n",
       "    </tr>\n",
       "    <tr>\n",
       "      <th>6</th>\n",
       "      <td>2023-08-01</td>\n",
       "      <td>87.37</td>\n",
       "      <td>7.31</td>\n",
       "      <td>0.000000</td>\n",
       "    </tr>\n",
       "    <tr>\n",
       "      <th>5</th>\n",
       "      <td>2023-07-31</td>\n",
       "      <td>84.92</td>\n",
       "      <td>8.25</td>\n",
       "      <td>0.000000</td>\n",
       "    </tr>\n",
       "    <tr>\n",
       "      <th>4</th>\n",
       "      <td>2023-07-30</td>\n",
       "      <td>90.46</td>\n",
       "      <td>11.52</td>\n",
       "      <td>0.037039</td>\n",
       "    </tr>\n",
       "    <tr>\n",
       "      <th>3</th>\n",
       "      <td>2023-07-29</td>\n",
       "      <td>98.94</td>\n",
       "      <td>10.67</td>\n",
       "      <td>0.001953</td>\n",
       "    </tr>\n",
       "    <tr>\n",
       "      <th>2</th>\n",
       "      <td>2023-07-28</td>\n",
       "      <td>100.45</td>\n",
       "      <td>10.87</td>\n",
       "      <td>0.001299</td>\n",
       "    </tr>\n",
       "    <tr>\n",
       "      <th>1</th>\n",
       "      <td>2023-07-27</td>\n",
       "      <td>95.59</td>\n",
       "      <td>13.73</td>\n",
       "      <td>0.187008</td>\n",
       "    </tr>\n",
       "    <tr>\n",
       "      <th>0</th>\n",
       "      <td>2023-07-26</td>\n",
       "      <td>92.44</td>\n",
       "      <td>13.29</td>\n",
       "      <td>0.039949</td>\n",
       "    </tr>\n",
       "    <tr>\n",
       "      <th>1</th>\n",
       "      <td>2023-07-24</td>\n",
       "      <td>86.92</td>\n",
       "      <td>16.11</td>\n",
       "      <td>0.163386</td>\n",
       "    </tr>\n",
       "    <tr>\n",
       "      <th>2</th>\n",
       "      <td>2023-07-23</td>\n",
       "      <td>85.66</td>\n",
       "      <td>12.66</td>\n",
       "      <td>0.000000</td>\n",
       "    </tr>\n",
       "    <tr>\n",
       "      <th>3</th>\n",
       "      <td>2023-07-22</td>\n",
       "      <td>83.19</td>\n",
       "      <td>8.05</td>\n",
       "      <td>0.000000</td>\n",
       "    </tr>\n",
       "    <tr>\n",
       "      <th>4</th>\n",
       "      <td>2023-07-21</td>\n",
       "      <td>80.51</td>\n",
       "      <td>11.50</td>\n",
       "      <td>0.000000</td>\n",
       "    </tr>\n",
       "    <tr>\n",
       "      <th>5</th>\n",
       "      <td>2023-07-20</td>\n",
       "      <td>88.07</td>\n",
       "      <td>16.11</td>\n",
       "      <td>0.000000</td>\n",
       "    </tr>\n",
       "    <tr>\n",
       "      <th>6</th>\n",
       "      <td>2023-07-19</td>\n",
       "      <td>83.12</td>\n",
       "      <td>12.66</td>\n",
       "      <td>0.000000</td>\n",
       "    </tr>\n",
       "  </tbody>\n",
       "</table>\n",
       "</div>"
      ],
      "text/plain": [
       "         DATE  MAX TEMPERATURE  AVG WIND  TOTAL PRECIPITATION\n",
       "7  2023-08-02            94.33     16.40             0.019039\n",
       "6  2023-08-01            87.37      7.31             0.000000\n",
       "5  2023-07-31            84.92      8.25             0.000000\n",
       "4  2023-07-30            90.46     11.52             0.037039\n",
       "3  2023-07-29            98.94     10.67             0.001953\n",
       "2  2023-07-28           100.45     10.87             0.001299\n",
       "1  2023-07-27            95.59     13.73             0.187008\n",
       "0  2023-07-26            92.44     13.29             0.039949\n",
       "1  2023-07-24            86.92     16.11             0.163386\n",
       "2  2023-07-23            85.66     12.66             0.000000\n",
       "3  2023-07-22            83.19      8.05             0.000000\n",
       "4  2023-07-21            80.51     11.50             0.000000\n",
       "5  2023-07-20            88.07     16.11             0.000000\n",
       "6  2023-07-19            83.12     12.66             0.000000"
      ]
     },
     "execution_count": 90,
     "metadata": {},
     "output_type": "execute_result"
    }
   ],
   "source": [
    "weather_append.sort_values(by='DATE', ascending=False).head(14)"
   ]
  },
  {
   "cell_type": "markdown",
   "id": "7576c80f",
   "metadata": {},
   "source": [
    "# Visualize Recent Weather Data and Future Forecast"
   ]
  },
  {
   "cell_type": "code",
   "execution_count": 91,
   "id": "eec08cf4",
   "metadata": {},
   "outputs": [
    {
     "data": {
      "image/png": "[encoded data removed]",
      "text/plain": [
       "<Figure size 1400x400 with 1 Axes>"
      ]
     },
     "metadata": {},
     "output_type": "display_data"
    }
   ],
   "source": [
    "weather_sorted = weather_append.sort_values(by='DATE', ascending=False).head(10)\n",
    "weather_sorted.set_index('DATE', inplace=True)\n",
    "\n",
    "# Convert 'MAX TEMPERATURE' to numeric, coerce errors to NaN\n",
    "weather_sorted['MAX TEMPERATURE'] = pd.to_numeric(weather_sorted['MAX TEMPERATURE'], errors='coerce')\n",
    "\n",
    "plt.figure(figsize=(14, 4))\n",
    "plt.plot(weather_sorted['MAX TEMPERATURE'], linewidth=4)\n",
    "\n",
    "# Find min and max values\n",
    "min_temp = weather_sorted['MAX TEMPERATURE'].min()\n",
    "max_temp = weather_sorted['MAX TEMPERATURE'].max()\n",
    "\n",
    "# Find the dates corresponding to the min and max temperatures\n",
    "min_date = weather_sorted[weather_sorted['MAX TEMPERATURE'] == min_temp].index[0]\n",
    "max_date = weather_sorted[weather_sorted['MAX TEMPERATURE'] == max_temp].index[0]\n",
    "\n",
    "# Annotate the min and max points on the graph\n",
    "plt.annotate(f'Min: {min_temp}', xy=(min_date, min_temp), xytext=(min_date, min_temp+5),\n",
    "             arrowprops=dict(facecolor='red', shrink=0.05))\n",
    "plt.annotate(f'Max: {max_temp}', xy=(max_date, max_temp), xytext=(max_date, max_temp+5),\n",
    "             arrowprops=dict(facecolor='green', shrink=0.05))\n",
    "\n",
    "plt.xticks(rotation=45)\n",
    "plt.title('MAX TEMPERATURE over Time')\n",
    "plt.xlabel('DATE')\n",
    "plt.ylabel('MAX TEMPERATURE')\n",
    "plt.grid(False)\n",
    "plt.show()\n"
   ]
  },
  {
   "cell_type": "code",
   "execution_count": 92,
   "id": "5e57895c",
   "metadata": {},
   "outputs": [
    {
     "data": {
      "image/png": "[encoded data removed]",
      "text/plain": [
       "<Figure size 1500x300 with 1 Axes>"
      ]
     },
     "metadata": {},
     "output_type": "display_data"
    }
   ],
   "source": [
    "# Plot TOTAL PRECIPITATION\n",
    "plt.figure(figsize=(15, 3))\n",
    "plt.bar(weather_sorted.index, weather_sorted['TOTAL PRECIPITATION'], color='skyblue')\n",
    "plt.xticks(rotation=45)\n",
    "plt.title('TOTAL PRECIPITATION over Time')\n",
    "plt.xlabel('DATE')\n",
    "plt.ylabel('TOTAL PRECIPITATION')\n",
    "plt.grid(True)\n",
    "plt.show()"
   ]
  },
  {
   "cell_type": "code",
   "execution_count": 93,
   "id": "5ec8311b",
   "metadata": {},
   "outputs": [
    {
     "data": {
      "text/plain": [
       "Index(['DATE', 'MAX TEMPERATURE', 'AVG WIND', 'TOTAL PRECIPITATION'], dtype='object')"
      ]
     },
     "execution_count": 93,
     "metadata": {},
     "output_type": "execute_result"
    }
   ],
   "source": [
    "unique_trails = trail_df['trail'].unique().tolist()\n",
    "\n",
    "# create an empty list to store the duplicated rows\n",
    "new_rows = []\n",
    "\n",
    "# loop through each row in the original DataFrame\n",
    "for _, row in weather_append.iterrows():\n",
    "    # loop through each unique string and create a new row with the string added\n",
    "    for string in unique_trails:\n",
    "        new_row = row.copy()\n",
    "        new_row['DESCRIPTION'] = string\n",
    "        new_rows.append(new_row)\n",
    "weather_append.columns"
   ]
  },
  {
   "cell_type": "code",
   "execution_count": 94,
   "id": "b66a0f8e",
   "metadata": {},
   "outputs": [
    {
     "data": {
      "text/html": [
       "<div>\n",
       "<style scoped>\n",
       "    .dataframe tbody tr th:only-of-type {\n",
       "        vertical-align: middle;\n",
       "    }\n",
       "\n",
       "    .dataframe tbody tr th {\n",
       "        vertical-align: top;\n",
       "    }\n",
       "\n",
       "    .dataframe thead th {\n",
       "        text-align: right;\n",
       "    }\n",
       "</style>\n",
       "<table border=\"1\" class=\"dataframe\">\n",
       "  <thead>\n",
       "    <tr style=\"text-align: right;\">\n",
       "      <th></th>\n",
       "      <th>DATE</th>\n",
       "      <th>MAX TEMPERATURE</th>\n",
       "      <th>AVG WIND</th>\n",
       "      <th>TOTAL PRECIPITATION</th>\n",
       "      <th>DESCRIPTION</th>\n",
       "    </tr>\n",
       "  </thead>\n",
       "  <tbody>\n",
       "    <tr>\n",
       "      <th>0</th>\n",
       "      <td>2023-07-24</td>\n",
       "      <td>86.92</td>\n",
       "      <td>16.11</td>\n",
       "      <td>0.163386</td>\n",
       "      <td>East Fork State Park</td>\n",
       "    </tr>\n",
       "    <tr>\n",
       "      <th>1</th>\n",
       "      <td>2023-07-24</td>\n",
       "      <td>86.92</td>\n",
       "      <td>16.11</td>\n",
       "      <td>0.163386</td>\n",
       "      <td>Premier Health Bike Park</td>\n",
       "    </tr>\n",
       "    <tr>\n",
       "      <th>2</th>\n",
       "      <td>2023-07-24</td>\n",
       "      <td>86.92</td>\n",
       "      <td>16.11</td>\n",
       "      <td>0.163386</td>\n",
       "      <td>Milford Trails</td>\n",
       "    </tr>\n",
       "    <tr>\n",
       "      <th>3</th>\n",
       "      <td>2023-07-24</td>\n",
       "      <td>86.92</td>\n",
       "      <td>16.11</td>\n",
       "      <td>0.163386</td>\n",
       "      <td>Tower Park</td>\n",
       "    </tr>\n",
       "    <tr>\n",
       "      <th>4</th>\n",
       "      <td>2023-07-24</td>\n",
       "      <td>86.92</td>\n",
       "      <td>16.11</td>\n",
       "      <td>0.163386</td>\n",
       "      <td>England Idlewild</td>\n",
       "    </tr>\n",
       "  </tbody>\n",
       "</table>\n",
       "</div>"
      ],
      "text/plain": [
       "         DATE  MAX TEMPERATURE  AVG WIND  TOTAL PRECIPITATION  \\\n",
       "0  2023-07-24            86.92     16.11             0.163386   \n",
       "1  2023-07-24            86.92     16.11             0.163386   \n",
       "2  2023-07-24            86.92     16.11             0.163386   \n",
       "3  2023-07-24            86.92     16.11             0.163386   \n",
       "4  2023-07-24            86.92     16.11             0.163386   \n",
       "\n",
       "                DESCRIPTION  \n",
       "0      East Fork State Park  \n",
       "1  Premier Health Bike Park  \n",
       "2            Milford Trails  \n",
       "3                Tower Park  \n",
       "4          England Idlewild  "
      ]
     },
     "execution_count": 94,
     "metadata": {},
     "output_type": "execute_result"
    }
   ],
   "source": [
    "# create a new DataFrame with the duplicated rows\n",
    "new_df = pd.DataFrame(new_rows)\n",
    "\n",
    "# reset the index of the new DataFrame\n",
    "new_df.reset_index(drop=True, inplace=True)\n",
    "new_df.head()"
   ]
  },
  {
   "cell_type": "code",
   "execution_count": 95,
   "id": "2f2aaf6c",
   "metadata": {},
   "outputs": [
    {
     "data": {
      "text/html": [
       "<div>\n",
       "<style scoped>\n",
       "    .dataframe tbody tr th:only-of-type {\n",
       "        vertical-align: middle;\n",
       "    }\n",
       "\n",
       "    .dataframe tbody tr th {\n",
       "        vertical-align: top;\n",
       "    }\n",
       "\n",
       "    .dataframe thead th {\n",
       "        text-align: right;\n",
       "    }\n",
       "</style>\n",
       "<table border=\"1\" class=\"dataframe\">\n",
       "  <thead>\n",
       "    <tr style=\"text-align: right;\">\n",
       "      <th></th>\n",
       "      <th>date_clean</th>\n",
       "      <th>TMAX</th>\n",
       "      <th>AWND</th>\n",
       "      <th>PRCP</th>\n",
       "      <th>trail</th>\n",
       "    </tr>\n",
       "  </thead>\n",
       "  <tbody>\n",
       "    <tr>\n",
       "      <th>0</th>\n",
       "      <td>2023-07-24</td>\n",
       "      <td>86.92</td>\n",
       "      <td>16.11</td>\n",
       "      <td>0.163386</td>\n",
       "      <td>East Fork State Park</td>\n",
       "    </tr>\n",
       "  </tbody>\n",
       "</table>\n",
       "</div>"
      ],
      "text/plain": [
       "   date_clean   TMAX   AWND      PRCP                 trail\n",
       "0  2023-07-24  86.92  16.11  0.163386  East Fork State Park"
      ]
     },
     "execution_count": 95,
     "metadata": {},
     "output_type": "execute_result"
    }
   ],
   "source": [
    "# create a dictionary that maps the old column names to the new column names\n",
    "column_names = {'DATE': 'date_clean', 'MAX TEMPERATURE': 'TMAX', 'AVG WIND': 'AWND', 'TOTAL PRECIPITATION': 'PRCP', 'DESCRIPTION': 'trail'}\n",
    "\n",
    "# rename the columns using the rename() method with the column_names dictionary\n",
    "new_df = new_df.rename(columns=column_names)\n",
    "new_df.head(1)"
   ]
  },
  {
   "cell_type": "code",
   "execution_count": 96,
   "id": "babcd2f3",
   "metadata": {},
   "outputs": [
    {
     "data": {
      "text/plain": [
       "14220"
      ]
     },
     "execution_count": 96,
     "metadata": {},
     "output_type": "execute_result"
    }
   ],
   "source": [
    "len(new_df)"
   ]
  },
  {
   "cell_type": "code",
   "execution_count": 97,
   "id": "31b6aa6b",
   "metadata": {},
   "outputs": [
    {
     "name": "stdout",
     "output_type": "stream",
     "text": [
      "2020-01-01\n",
      "2023-03-16\n",
      "2020-01-01\n",
      "2023-08-02\n"
     ]
    }
   ],
   "source": [
    "model_df['date_clean'] = pd.to_datetime(model_df['date_clean'])\n",
    "model_df['date_clean'] = model_df['date_clean'].dt.date\n",
    "\n",
    "# weather_data_main = pd.concat([model_df, new_df], axis=0)\n",
    "weather_data_main = new_df.copy()\n",
    "weather_data_main = weather_data_main.drop_duplicates(subset=['date_clean', 'trail'])\n",
    "print(model_df['date_clean'].min())\n",
    "print(model_df['date_clean'].max())\n",
    "print(new_df['date_clean'].min())\n",
    "print(new_df['date_clean'].max())"
   ]
  },
  {
   "cell_type": "markdown",
   "id": "262c6124",
   "metadata": {},
   "source": [
    "## QA NOTE: Stopping At March 16th, 2023 because that's when CORA history ends"
   ]
  },
  {
   "cell_type": "code",
   "execution_count": 98,
   "id": "15023346",
   "metadata": {
    "scrolled": true
   },
   "outputs": [
    {
     "data": {
      "text/plain": [
       "array([datetime.date(2023, 8, 2), datetime.date(2023, 8, 1)], dtype=object)"
      ]
     },
     "execution_count": 98,
     "metadata": {},
     "output_type": "execute_result"
    }
   ],
   "source": [
    "weather_data_main.sort_values('date_clean', ascending = False).head(15)['date_clean'].unique()"
   ]
  },
  {
   "cell_type": "markdown",
   "id": "2b45e8e7",
   "metadata": {},
   "source": [
    "### Check to see if we have necessary dates "
   ]
  },
  {
   "cell_type": "code",
   "execution_count": 99,
   "id": "e199e967",
   "metadata": {
    "scrolled": true
   },
   "outputs": [
    {
     "name": "stdout",
     "output_type": "stream",
     "text": [
      "GOOD we have the proper data needed\n"
     ]
    }
   ],
   "source": [
    "if weather_data_main['date_clean'].max() < new_df['date_clean'].min():\n",
    "    print(\"WARNING missing weather data\")\n",
    "else:\n",
    "    print(\"GOOD we have the proper data needed\")"
   ]
  },
  {
   "cell_type": "markdown",
   "id": "9ba1a35b",
   "metadata": {},
   "source": [
    "# Feature Engineering"
   ]
  },
  {
   "cell_type": "markdown",
   "id": "6c03950b",
   "metadata": {},
   "source": [
    "## Define Lookbacks (# of days for each feature)"
   ]
  },
  {
   "cell_type": "code",
   "execution_count": 100,
   "id": "3c5116f2",
   "metadata": {},
   "outputs": [
    {
     "data": {
      "text/html": [
       "<div>\n",
       "<style scoped>\n",
       "    .dataframe tbody tr th:only-of-type {\n",
       "        vertical-align: middle;\n",
       "    }\n",
       "\n",
       "    .dataframe tbody tr th {\n",
       "        vertical-align: top;\n",
       "    }\n",
       "\n",
       "    .dataframe thead th {\n",
       "        text-align: right;\n",
       "    }\n",
       "</style>\n",
       "<table border=\"1\" class=\"dataframe\">\n",
       "  <thead>\n",
       "    <tr style=\"text-align: right;\">\n",
       "      <th></th>\n",
       "      <th>date_clean</th>\n",
       "      <th>TMAX</th>\n",
       "      <th>AWND</th>\n",
       "      <th>PRCP</th>\n",
       "      <th>trail</th>\n",
       "      <th>PRCP_2d</th>\n",
       "      <th>TMAX_2d</th>\n",
       "      <th>PRCP_3d</th>\n",
       "      <th>TMAX_3d</th>\n",
       "      <th>PRCP_7d</th>\n",
       "      <th>TMAX_7d</th>\n",
       "    </tr>\n",
       "  </thead>\n",
       "  <tbody>\n",
       "    <tr>\n",
       "      <th>0</th>\n",
       "      <td>2023-07-24</td>\n",
       "      <td>86.92</td>\n",
       "      <td>16.11</td>\n",
       "      <td>0.163386</td>\n",
       "      <td>East Fork State Park</td>\n",
       "      <td>0.0</td>\n",
       "      <td>0.0</td>\n",
       "      <td>0.0</td>\n",
       "      <td>0.0</td>\n",
       "      <td>0.0</td>\n",
       "      <td>0.0</td>\n",
       "    </tr>\n",
       "  </tbody>\n",
       "</table>\n",
       "</div>"
      ],
      "text/plain": [
       "   date_clean   TMAX   AWND      PRCP                 trail  PRCP_2d  TMAX_2d  \\\n",
       "0  2023-07-24  86.92  16.11  0.163386  East Fork State Park      0.0      0.0   \n",
       "\n",
       "   PRCP_3d  TMAX_3d  PRCP_7d  TMAX_7d  \n",
       "0      0.0      0.0      0.0      0.0  "
      ]
     },
     "execution_count": 100,
     "metadata": {},
     "output_type": "execute_result"
    }
   ],
   "source": [
    "# Create new columns \n",
    "for i in lookback_days_list:\n",
    "    for col in ['PRCP', 'TMAX']:\n",
    "        if col == 'PRCP':\n",
    "            # Calculate the cumulative sum of 'PRCP' for the past X days\n",
    "            weather_data_main[f'{col}_{i}d'] = weather_data_main[col].rolling(window=i).sum().shift(1)\n",
    "        else:\n",
    "            # Calculate the average of 'AWND' and 'TAVG' for the past X days\n",
    "            weather_data_main[f'{col}_{i}d'] = weather_data_main[col].rolling(window=i).mean().shift(1)\n",
    "\n",
    "# Replace missing values with 0\n",
    "weather_data_main.fillna(0, inplace=True)\n",
    "\n",
    "weather_data_main.head(1)"
   ]
  },
  {
   "cell_type": "code",
   "execution_count": 101,
   "id": "4dc152a3",
   "metadata": {},
   "outputs": [],
   "source": [
    "# Filter to future dates\n",
    "\n",
    "today = pd.Timestamp.today().normalize() # Get today's date\n",
    "future_dates_mask = weather_data_main['date_clean'] >= today\n",
    "weather_data_main_future = weather_data_main[future_dates_mask]\n"
   ]
  },
  {
   "cell_type": "code",
   "execution_count": 102,
   "id": "17a97915-da62-4de2-94e1-7735e97a3fa3",
   "metadata": {},
   "outputs": [
    {
     "data": {
      "text/plain": [
       "1    8503\n",
       "0    5549\n",
       "Name: target, dtype: int64"
      ]
     },
     "execution_count": 102,
     "metadata": {},
     "output_type": "execute_result"
    }
   ],
   "source": [
    "datetime_cols = model_df.select_dtypes(include=[np.datetime64, 'datetime', 'datetime64']).columns.tolist()\n",
    "model_df['date_clean'] = model_df['date_clean'].astype('datetime64[ns]')\n",
    "model_df['target'] = model_df['target'].astype('int64')\n",
    "model_df['target'].value_counts()"
   ]
  },
  {
   "cell_type": "markdown",
   "id": "69460d58",
   "metadata": {},
   "source": [
    "# Write Out Data"
   ]
  },
  {
   "cell_type": "code",
   "execution_count": 103,
   "id": "fd98526a",
   "metadata": {},
   "outputs": [],
   "source": [
    "model_df.to_csv('01_mtb_model_df_out.csv')"
   ]
  },
  {
   "cell_type": "code",
   "execution_count": 104,
   "id": "fd291dcb",
   "metadata": {},
   "outputs": [],
   "source": [
    "weather_data_main_future.to_csv('01_mtb_weather_data_main_future_out.csv')"
   ]
  }
 ],
 "metadata": {
  "kernelspec": {
   "display_name": "Python 3 (ipykernel)",
   "language": "python",
   "name": "python3"
  },
  "language_info": {
   "codemirror_mode": {
    "name": "ipython",
    "version": 3
   },
   "file_extension": ".py",
   "mimetype": "text/x-python",
   "name": "python",
   "nbconvert_exporter": "python",
   "pygments_lexer": "ipython3",
   "version": "3.10.9"
  },
  "toc": {
   "base_numbering": 1,
   "nav_menu": {},
   "number_sections": true,
   "sideBar": true,
   "skip_h1_title": false,
   "title_cell": "Table of Contents",
   "title_sidebar": "Contents",
   "toc_cell": false,
   "toc_position": {},
   "toc_section_display": true,
   "toc_window_display": false
  }
 },
 "nbformat": 4,
 "nbformat_minor": 5
}
